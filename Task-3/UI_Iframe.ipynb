{
  "nbformat": 4,
  "nbformat_minor": 0,
  "metadata": {
    "colab": {
      "provenance": []
    },
    "kernelspec": {
      "name": "python3",
      "display_name": "Python 3"
    },
    "language_info": {
      "name": "python"
    }
  },
  "cells": [
    {
      "cell_type": "code",
      "execution_count": null,
      "metadata": {
        "id": "Gv1eOY4xj4JM"
      },
      "outputs": [],
      "source": [
        "!pip install clustergrammer_widget\n"
      ]
    },
    {
      "cell_type": "code",
      "source": [
        "# upload a file to the clustergrammer web app and visualize using an Iframe\n",
        "from clustergrammer import Network\n",
        "from copy import deepcopy\n",
        "net = deepcopy(Network())\n",
        "link = net.Iframe_web_app('clustergrammer_input.txt')\n",
        "print(link)"
      ],
      "metadata": {
        "colab": {
          "base_uri": "https://localhost:8080/",
          "height": 838
        },
        "id": "wquCJLvskw09",
        "outputId": "ba880dc7-736e-49f1-ce4f-fee3f43fbe7d"
      },
      "execution_count": 34,
      "outputs": [
        {
          "output_type": "display_data",
          "data": {
            "text/plain": [
              "<IPython.lib.display.IFrame at 0x7dd0a1dbca60>"
            ],
            "text/html": [
              "\n",
              "        <iframe\n",
              "            width=\"1000\"\n",
              "            height=\"800\"\n",
              "            src=\"http://maayanlab.cloud/clustergrammer/viz/64e50cc345b4690010f08be2/clustergrammer_input.txt\"\n",
              "            frameborder=\"0\"\n",
              "            allowfullscreen\n",
              "            \n",
              "        ></iframe>\n",
              "        "
            ]
          },
          "metadata": {}
        },
        {
          "output_type": "stream",
          "name": "stdout",
          "text": [
            "http://maayanlab.cloud/clustergrammer/viz/64e50cc345b4690010f08be2/clustergrammer_input.txt\n"
          ]
        }
      ]
    }
  ]
}