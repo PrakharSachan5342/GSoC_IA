{
  "nbformat": 4,
  "nbformat_minor": 0,
  "metadata": {
    "colab": {
      "provenance": []
    },
    "kernelspec": {
      "name": "python3",
      "display_name": "Python 3"
    },
    "language_info": {
      "name": "python"
    }
  },
  "cells": [
    {
      "cell_type": "code",
      "source": [
        "# upload a file to the clustergrammer web app and visualize using an Iframe\n",
        "\n",
        "!pip install clustergrammer_widget\n",
        "from clustergrammer import Network\n",
        "from copy import deepcopy\n",
        "net = deepcopy(Network())\n",
        "link = net.Iframe_web_app('clustergrammer_input.txt')\n",
        "print(link)\n"
      ],
      "metadata": {
        "id": "XdvnzJ0ayg3d"
      },
      "execution_count": null,
      "outputs": []
    },
    {
      "cell_type": "code",
      "source": [
        "# Using Clustergrammer-Web API\n",
        "\n",
        "import requests\n",
        "\n",
        "filename = 'clustergrammer_input.txt'\n",
        "upload_url = 'http://amp.pharm.mssm.edu/clustergrammer/matrix_upload/'\n",
        "\n",
        "r = requests.post(upload_url, files={'file': open(filename, 'rb')})\n",
        "\n",
        "link = r.text\n",
        "print(link)"
      ],
      "metadata": {
        "id": "KEo1_p7ayUfT"
      },
      "execution_count": null,
      "outputs": []
    }
  ]
}